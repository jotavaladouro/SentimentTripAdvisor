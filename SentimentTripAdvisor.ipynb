{
 "cells": [
  {
   "cell_type": "markdown",
   "metadata": {},
   "source": [
    "# Playing with BeautifulSoup and TextBlob\n",
    "We use urblib3 and BeautifulSoup to scrapt  a TripAdvisor web page an get the firsts reviews.\n",
    "\n",
    "We use TextBlob to measure the sentiment of this reviews.\n"
   ]
  },
  {
   "cell_type": "code",
   "execution_count": 53,
   "metadata": {},
   "outputs": [],
   "source": [
    "# import libraries\n",
    "import urllib3\n",
    "from bs4 import BeautifulSoup\n",
    "from textblob import TextBlob"
   ]
  },
  {
   "cell_type": "code",
   "execution_count": 54,
   "metadata": {
    "collapsed": true
   },
   "outputs": [],
   "source": [
    "#specify the url\n",
    "quote_page = \"https://www.tripadvisor.com/Hotel_Review-g580450-d266729-Reviews-Melia_Cayo_Coco-Cayo_Coco_Jardines_del_Rey_Archipelago_Ciego_de_Avila_Province_Cuba.html\""
   ]
  },
  {
   "cell_type": "markdown",
   "metadata": {},
   "source": [
    "## Get the review container list"
   ]
  },
  {
   "cell_type": "code",
   "execution_count": 55,
   "metadata": {},
   "outputs": [
    {
     "name": "stderr",
     "output_type": "stream",
     "text": [
      "/home/jota/anaconda3/lib/python3.6/site-packages/urllib3/connectionpool.py:858: InsecureRequestWarning: Unverified HTTPS request is being made. Adding certificate verification is strongly advised. See: https://urllib3.readthedocs.io/en/latest/advanced-usage.html#ssl-warnings\n",
      "  InsecureRequestWarning)\n"
     ]
    }
   ],
   "source": [
    "# Create de Request\n",
    "http = urllib3.PoolManager()\n",
    "# Get the page\n",
    "response = http.request('GET', quote_page )\n",
    "#Parse the page\n",
    "soup = BeautifulSoup(response.data,\"html.parser\")\n",
    "# Search for divs with class review-container\n",
    "lst_review=soup.find_all(\"div\", attrs={\"class\":\"review-container\"})"
   ]
  },
  {
   "cell_type": "markdown",
   "metadata": {},
   "source": [
    "## Process one review"
   ]
  },
  {
   "cell_type": "code",
   "execution_count": 56,
   "metadata": {},
   "outputs": [
    {
     "data": {
      "text/plain": [
       "<div class=\"entry\"><p class=\"partial_entry\">We were not disapointed!  The food and service were amazing!!  We had a wonderful buffet on Christmas Eve, and 3 a la cartes during our stay.  The International was my favorite...but all were very good.  \n",
       "The grounds and buildings were very clean and well cared...<span class=\"taLnk ulBlueLinks\" onclick=\"widgetEvCall('handlers.clickExpand',event,this);\">More</span></p></div>"
      ]
     },
     "execution_count": 56,
     "metadata": {},
     "output_type": "execute_result"
    }
   ],
   "source": [
    "review=lst_review[0]\n",
    "# Text in review container is in a div named entry\n",
    "entry=review.find(\"div\", attrs={\"class\":\"entry\"})\n",
    "entry"
   ]
  },
  {
   "cell_type": "code",
   "execution_count": 57,
   "metadata": {},
   "outputs": [
    {
     "data": {
      "text/plain": [
       "'We were not disapointed!  The food and service were amazing!!  We had a wonderful buffet on Christmas Eve, and 3 a la cartes during our stay.  The International was my favorite...but all were very good.  \\nThe grounds and buildings were very clean and well cared...More'"
      ]
     },
     "execution_count": 57,
     "metadata": {},
     "output_type": "execute_result"
    }
   ],
   "source": [
    "# Clean Entry from html tags. Get a clean text\n",
    "entry.get_text()"
   ]
  },
  {
   "cell_type": "code",
   "execution_count": 58,
   "metadata": {},
   "outputs": [
    {
     "data": {
      "text/plain": [
       "0.6648333333333334"
      ]
     },
     "execution_count": 58,
     "metadata": {},
     "output_type": "execute_result"
    }
   ],
   "source": [
    "# Get the sentiment\n",
    "blob = TextBlob(entry.get_text())\n",
    "blob.sentiment.polarity"
   ]
  },
  {
   "cell_type": "markdown",
   "metadata": {},
   "source": [
    "## Process all reviews"
   ]
  },
  {
   "cell_type": "code",
   "execution_count": 59,
   "metadata": {},
   "outputs": [
    {
     "name": "stdout",
     "output_type": "stream",
     "text": [
      "We were not disapointed!  The food and service were amazing!!  We had a wonderful buffet on Christmas Eve, and 3 a la cartes during our stay.  The International was my favorite...but all were very good.  \n",
      "The grounds and buildings were very clean and well cared...More 0.6648333333333334\n",
      "We visited Cuba for the first time in August and selected Melia Cayo Coco based on other Trip Advisor reviews.\n",
      "We were not disappointed! We had a fabulous relaxing holiday that went to fast.\n",
      "Transport to and from the airport was quick, the staff very...More 0.2545138888888889\n",
      "Myself and my Wife visited Melia Cayo Coco for the first time in Feb 2017, \r\n",
      "We chose MCC following online research of recent reviews and were not disappointed.\r\n",
      "\r\n",
      "We have enjoyed many luxury resorts and hotels around the globe, and am very pleased to say...More 0.325\n",
      "Stayed at this hotel many times over the years but never over the Christmas and New Year period . We were not disappointed. It was a fabulous stay . The  room was clean and lovely as usual . The food was of very high standard...More 0.2795037878787879\n",
      "Our second visit to this resort within a year and were super impressed with the Cuban dedication in getting the resort back 'up-to-snuff' in such a short turn around time!\n",
      "\n",
      "The staff at this resort is the 'jewel in the crown' and are always all...More 0.2222222222222222\n"
     ]
    }
   ],
   "source": [
    "for review in lst_review:\n",
    "    entry=review.find(\"div\", attrs={\"class\":\"entry\"}).get_text()\n",
    "    blob = TextBlob(entry)\n",
    "    print(entry,blob.sentiment.polarity)"
   ]
  },
  {
   "cell_type": "code",
   "execution_count": null,
   "metadata": {
    "collapsed": true
   },
   "outputs": [],
   "source": []
  }
 ],
 "metadata": {
  "kernelspec": {
   "display_name": "Python 3",
   "language": "python",
   "name": "python3"
  },
  "language_info": {
   "codemirror_mode": {
    "name": "ipython",
    "version": 3
   },
   "file_extension": ".py",
   "mimetype": "text/x-python",
   "name": "python",
   "nbconvert_exporter": "python",
   "pygments_lexer": "ipython3",
   "version": "3.6.3"
  }
 },
 "nbformat": 4,
 "nbformat_minor": 2
}
